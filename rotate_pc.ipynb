{
 "cells": [
  {
   "cell_type": "code",
   "execution_count": 3,
   "metadata": {},
   "outputs": [],
   "source": [
    "import open3d as o3d\n",
    "import copy\n",
    "import numpy as np\n",
    "import math\n",
    "import csv\n",
    "import os"
   ]
  },
  {
   "cell_type": "code",
   "execution_count": 2,
   "metadata": {},
   "outputs": [
    {
     "name": "stdout",
     "output_type": "stream",
     "text": [
      "['C', 'T1', 'T2', 'L', 'G', 'D', 'IG', 'ID']\n"
     ]
    }
   ],
   "source": [
    "dict_coordo_xyz_labels = {}\n",
    "\n",
    "path = r'D:\\StageE23\\Data\\Ete_2022\\Participant08\\autocorrection\\Prise01'\n",
    "\n",
    "with open(path+'/Positions/coordonnees_xyz.csv', 'r') as csvfile:\n",
    "    reader = csv.reader(csvfile, delimiter=';')\n",
    "    j = 0\n",
    "    for row in reader: #skip headline\n",
    "        if j == 0:\n",
    "            entete = row[1::3]\n",
    "            labels_xyz = [e[:-2] for e in entete]\n",
    "            print(labels_xyz)\n",
    "        elif j > 0:\n",
    "            key = f'image{row[0]}'\n",
    "            dict_coordo_xyz_labels.update({key: {}})\n",
    "            row = [float(i) for i in row[1:]]\n",
    "            i = 0\n",
    "            for l in labels_xyz:\n",
    "                dict_coordo_xyz_labels[key].update({l : [row[i], row[i+1], row[i+2]]})\n",
    "                i += 3\n",
    "        j += 1"
   ]
  },
  {
   "cell_type": "code",
   "execution_count": 39,
   "metadata": {},
   "outputs": [],
   "source": [
    "mesh = o3d.io.read_point_cloud(r'D:\\StageE23\\Data\\Ete_2022\\Participant11\\autocorrection\\Prise01\\xyz_removed_bg\\auto_01_012915_XYZ_0.ply')\n",
    "\n",
    "mesh_r = copy.deepcopy(mesh)\n",
    "R = mesh.get_rotation_matrix_from_xyz((0, 0, 1)) #equivalent to yxz\n",
    "mesh_r.rotate(R, center=(-42, -227, 1735))\n",
    "o3d.visualization.draw_geometries([mesh, mesh_r])"
   ]
  },
  {
   "cell_type": "code",
   "execution_count": 45,
   "metadata": {},
   "outputs": [
    {
     "name": "stdout",
     "output_type": "stream",
     "text": [
      "ID : [57.01655, -229.58379, 1743.2013], IG : [-41.624138, -226.70938, 1734.6282]\n",
      "{'C': [2.5073442, 176.8519, 1772.0079], 'T1': [4.147256, 98.748566, 1739.0088], 'T2': [7.5046997, 18.228354, 1733.7202], 'L': [2.4627376, -101.48687, 1745.3187], 'G': [-47.65136, -1.9974544, 1714.5927], 'D': [71.457344, 9.654943, 1708.8358], 'IG': [-41.624138, -226.70938, 1734.6282], 'ID': [57.01655, -229.58379, 1743.2013]}\n",
      "{'C': [1.6419234, 176.74292, 1770.9171], 'T1': [3.2998822, 98.73337, 1738.7412], 'T2': [6.659403, 18.223717, 1733.284], 'L': [1.6125938, -101.48043, 1745.209], 'G': [-48.476204, -1.9970455, 1714.2417], 'D': [68.954704, 7.9903703, 1708.7218], 'IG': [-43.329044, -226.758, 1734.9805], 'ID': [57.02028, -229.59882, 1743.3154]}\n",
      "[[  -7  177 1768]\n",
      " [  -5   99 1735]\n",
      " [   0   19 1729]\n",
      " [  -1 -100 1741]\n",
      " [ -56   -2 1715]\n",
      " [  59   11 1699]\n",
      " [ -43 -226 1735]\n",
      " [  57 -226 1734]]\n"
     ]
    }
   ],
   "source": [
    "dict_coordo_xyz_labels_r = {}\n",
    "\n",
    "ID = dict_coordo_xyz_labels['image1']['ID']\n",
    "IG = dict_coordo_xyz_labels['image1']['IG']\n",
    "print(f'ID : {ID}, IG : {IG}')\n",
    "rz = math.atan((ID[1] - IG[1])/(ID[0] - IG[0]))\n",
    "rx = math.atan((ID[2] - IG[2])/(ID[0] - IG[0]))\n",
    "\n",
    "\n",
    "path_pc = r'D:\\StageE23\\Data\\Ete_2022\\Participant08\\autocorrection\\Prise01\\xyz_removed_bg'\n",
    "savepath_pc = r'D:\\StageE23\\Data\\Ete_2022\\Participant08\\autocorrection\\Prise01\\xyz_rotated'\n",
    "os.makedirs(savepath_pc, exist_ok=True)\n",
    "\n",
    "markers = o3d.geometry.PointCloud()\n",
    "markers_points = dict_coordo_xyz_labels[f'image{2}'].values()\n",
    "markers.points = o3d.utility.Vector3dVector(markers_points)\n",
    "markers.colors = o3d.utility.Vector3dVector(np.multiply(np.array([[1,0,0]]), np.ones((8,1))))\n",
    "markers_r = copy.deepcopy(markers)\n",
    "markers_r.colors = o3d.utility.Vector3dVector(np.multiply(np.array([[0,1,0]]), np.ones((8,1))))\n",
    "\n",
    "R = markers_r.get_rotation_matrix_from_xyz((0, rx, -rz))\n",
    "markers_r.rotate(R, center=(IG[0], IG[1], IG[2]))\n",
    "dict_coordo_xyz_labels_r.update({f'image{2}': np.asarray(markers_r.points)})\n",
    "\n",
    "o3d.visualization.draw_geometries([markers, markers_r])\n",
    "\n",
    "print(dict_coordo_xyz_labels['image1'])\n",
    "print(dict_coordo_xyz_labels['image2'])\n",
    "print(dict_coordo_xyz_labels_r['image2'].astype(int))"
   ]
  }
 ],
 "metadata": {
  "kernelspec": {
   "display_name": "Python 3",
   "language": "python",
   "name": "python3"
  },
  "language_info": {
   "codemirror_mode": {
    "name": "ipython",
    "version": 3
   },
   "file_extension": ".py",
   "mimetype": "text/x-python",
   "name": "python",
   "nbconvert_exporter": "python",
   "pygments_lexer": "ipython3",
   "version": "3.9.16"
  },
  "orig_nbformat": 4
 },
 "nbformat": 4,
 "nbformat_minor": 2
}
