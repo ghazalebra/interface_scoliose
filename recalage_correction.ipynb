{
 "cells": [
  {
   "cell_type": "code",
   "execution_count": 2,
   "metadata": {},
   "outputs": [
    {
     "name": "stdout",
     "output_type": "stream",
     "text": [
      "Jupyter environment detected. Enabling Open3D WebVisualizer.\n",
      "[Open3D INFO] WebRTC GUI backend enabled.\n",
      "[Open3D INFO] WebRTCWindowSystem: HTTP handshake server disabled.\n"
     ]
    }
   ],
   "source": [
    "import json\n",
    "import os\n",
    "import numpy as np\n",
    "import matplotlib.pyplot as plt\n",
    "import open3d as o3d\n",
    "from open3d.pipelines.registration import registration_icp, TransformationEstimationPointToPoint\n",
    "import copy\n"
   ]
  },
  {
   "cell_type": "code",
   "execution_count": 62,
   "metadata": {},
   "outputs": [
    {
     "data": {
      "image/png": "[encoded data removed]",
      "text/plain": [
       "<Figure size 640x480 with 1 Axes>"
      ]
     },
     "metadata": {},
     "output_type": "display_data"
    }
   ],
   "source": [
    "path = r'D:\\StageE23\\Data\\Ete_2023\\Participant19'\n",
    "\n",
    "json_corr = open(os.path.join(path, r'Corrected\\Prise01\\Positions\\positions_xyzr.json'))\n",
    "pos_corr = json.load(json_corr)\n",
    "\n",
    "json_auto = open(os.path.join(path, r'autocorrection\\Prise01\\Positions\\positions_xyzr.json'))\n",
    "pos_auto = json.load(json_auto)\n",
    "\n",
    "x_corr, y_corr, z_corr = [], [], []\n",
    "x_auto, y_auto, z_auto = [], [], []\n",
    "\n",
    "for corr, auto in zip(pos_corr.values(), pos_auto.values()):\n",
    "    x_corr, y_corr, z_corr = [], [], []\n",
    "    x_auto, y_auto, z_auto = [], [], []\n",
    "    for c_corr, c_auto in zip(corr.values(), auto.values()):\n",
    "        x_corr.append(c_corr[0])\n",
    "        y_corr.append(c_corr[1])\n",
    "        z_corr.append(c_corr[2])\n",
    "        x_auto.append(c_auto[0])\n",
    "        y_auto.append(c_auto[1])\n",
    "        z_auto.append(c_auto[2])\n",
    "    \n",
    "plt.scatter(x_auto, y_auto, c='b')\n",
    "plt.scatter(x_corr, y_corr, c='r')\n",
    "plt.show()"
   ]
  },
  {
   "cell_type": "code",
   "execution_count": 4,
   "metadata": {},
   "outputs": [
    {
     "data": {
      "text/plain": [
       "' array_corr = np.array([x_corr, y_corr, z_corr]).T\\narray_auto = np.array([x_auto, y_auto, z_auto]).T\\n\\narray_corr_t, RMSE = ICP_registration(array_corr, array_auto)\\n\\nprint(np.asarray(RMSE)) '"
      ]
     },
     "execution_count": 4,
     "metadata": {},
     "output_type": "execute_result"
    }
   ],
   "source": [
    "def ICP_registration(source, target):\n",
    "    pc_target = o3d.geometry.PointCloud()\n",
    "    pc_target.points = o3d.utility.Vector3dVector(target)\n",
    "    pc_source = o3d.geometry.PointCloud()\n",
    "    pc_source.points = o3d.utility.Vector3dVector(source)\n",
    "\n",
    "    trans_init = np.eye(4)\n",
    "    reg_p2p = registration_icp(pc_source, pc_target, 400, trans_init, TransformationEstimationPointToPoint())\n",
    "    pc_source_t = pc_source.transform(reg_p2p.transformation)\n",
    "    source_trans = np.asarray(pc_source_t.points)\n",
    "\n",
    "    RMSE = reg_p2p.inlier_rmse\n",
    "\n",
    "    return source_trans, RMSE\n",
    "\n",
    "\"\"\" array_corr = np.array([x_corr, y_corr, z_corr]).T\n",
    "array_auto = np.array([x_auto, y_auto, z_auto]).T\n",
    "\n",
    "array_corr_t, RMSE = ICP_registration(array_corr, array_auto)\n",
    "\n",
    "print(np.asarray(RMSE)) \"\"\"\n"
   ]
  },
  {
   "cell_type": "code",
   "execution_count": 131,
   "metadata": {},
   "outputs": [
    {
     "data": {
      "image/png": "[encoded data removed]",
      "text/plain": [
       "<Figure size 640x480 with 1 Axes>"
      ]
     },
     "metadata": {},
     "output_type": "display_data"
    },
    {
     "name": "stdout",
     "output_type": "stream",
     "text": [
      "[1451.48689365 1394.17502981 1391.49255156 1423.80271973 1425.03776646\n",
      " 1427.09653859 1411.94344344 1427.13149062]\n",
      "[1454.16827829 1426.27689875 1410.07452351 1426.02586398 1392.91686938\n",
      " 1392.42837736 1426.31555098 1423.96007162]\n"
     ]
    }
   ],
   "source": [
    "array_auto = np.asarray(array_auto).T\n",
    "array_corr = np.asarray(array_corr_t).T\n",
    "\n",
    "fig, ax1 = plt.subplots()\n",
    "ax1.scatter(array_auto[0,:], array_auto[1,:], c='b')\n",
    "ax1.scatter(array_corr[0,:], array_corr[1,:], c='r')\n",
    "plt.show()\n",
    "\n",
    "print(array_auto[2])\n",
    "print(array_corr[2])"
   ]
  },
  {
   "cell_type": "code",
   "execution_count": 34,
   "metadata": {},
   "outputs": [
    {
     "name": "stdout",
     "output_type": "stream",
     "text": [
      "dict_keys(['Corrected 1', 'Corrected 2', 'Minimum 1', 'Maximum 1'])\n",
      "Autocorrection 1, Corrected 1 \t RMSE min = 2.0715, frame 10\n",
      "Autocorrection 1, Corrected 2 \t RMSE min = 28.6212, frame 0\n",
      "Autocorrection 1, Minimum 1 \t RMSE min = 36.0260, frame 61\n",
      "Autocorrection 1, Maximum 1 \t RMSE min = 5.7919, frame 28\n",
      "Autocorrection 2, Corrected 1 \t RMSE min = 4.2685, frame 70\n",
      "Autocorrection 2, Corrected 2 \t RMSE min = 29.3851, frame 15\n",
      "Autocorrection 2, Minimum 1 \t RMSE min = 73.2264, frame 23\n",
      "Autocorrection 2, Maximum 1 \t RMSE min = 6.0043, frame 48\n"
     ]
    }
   ],
   "source": [
    "path = r'D:\\StageE23\\Data\\Ete_2023\\Participant19'\n",
    "\n",
    "correction_paths = [r'Corrected\\Prise01\\Positions\\positions_xyzr.json', r'Corrected\\Prise02\\Positions\\positions_xyzr.json',\n",
    "                    r'Minimum\\Prise01\\Positions\\positions_xyzr.json', r'Minimum\\Prise02\\Positions\\positions_xyzr.json',\n",
    "                    r'Maximum\\Prise01\\Positions\\positions_xyzr.json', r'Maximum\\Prise02\\Positions\\positions_xyzr.json']\n",
    "\n",
    "# Rassemble les dictionnaires des positions des marqueurs sur frames corrigés avec type de correction + n° prise comme clé\n",
    "corrected_pos = {}\n",
    "for corr_path in correction_paths:\n",
    "    try:\n",
    "        file_corr = open(os.path.join(path, corr_path))\n",
    "        pos_corr = json.load(file_corr)\n",
    "        if not str(corr_path[:-38]) in corrected_pos:\n",
    "            corrected_pos.update({str(corr_path[:-38] + ' ' + corr_path[-31:-30]) : pos_corr})\n",
    "    except FileNotFoundError:\n",
    "        continue\n",
    "\n",
    "print(corrected_pos.keys())\n",
    "\n",
    "# Rassemble les dictionnaires des positions des marqueurs sur autocorrection avec n° prise comme clé\n",
    "auto_pos = {}\n",
    "for auto_path in os.listdir(path + '/autocorrection/'):\n",
    "    try:\n",
    "        json_auto = open(path + '/autocorrection/' + auto_path + '/Positions/positions_xyzr.json')\n",
    "        pos_auto = json.load(json_auto)\n",
    "        auto_pos.update({auto_path[-1]: pos_auto})\n",
    "    except FileNotFoundError:\n",
    "        continue\n",
    "\n",
    "# Compute RMSE for ICPregistration between positions of markers autocorrection and manual correction frames\n",
    "# Boucle sur les séquences d'autocorrection\n",
    "answer = {}\n",
    "for i, pos_auto in auto_pos.items():\n",
    "    # Boucle sur les frames avec correction appliquée (straight, max, min)\n",
    "    for type_corr, pos_corr in corrected_pos.items():\n",
    "        array_corr = [[c_corr[0], c_corr[1], c_corr[2]] for c_corr in list(pos_corr.values())[len(pos_corr.values())//2].values()] # sélection du frame central de la séquence\n",
    "        array_corr = np.asarray(array_corr)\n",
    "        # Boucle sur les frames d'autocorrection\n",
    "        arrays_auto = []\n",
    "        RMSEs = []\n",
    "        for auto in pos_auto.values():\n",
    "            array_auto = []\n",
    "            for c_auto in auto.values():\n",
    "                array_auto.append([c_auto[0], c_auto[1], c_auto[2]])\n",
    "            array_corr_t, RMSE = ICP_registration(array_corr, array_auto)\n",
    "            RMSEs.append(RMSE)\n",
    "        answer.update({f'Autocorrection {i}, {type_corr}': f'RMSE min = {min(RMSEs):.4f}, frame {RMSEs.index(min(RMSEs))}'})\n",
    "\n",
    "for key, vals in answer.items():\n",
    "    print(key, '\\t', vals)\n"
   ]
  },
  {
   "cell_type": "code",
   "execution_count": 21,
   "metadata": {},
   "outputs": [
    {
     "name": "stdout",
     "output_type": "stream",
     "text": [
      "1\n"
     ]
    }
   ],
   "source": [
    "path = r'Corrected\\Prise01\\Positions\\positions_xyzr.json'\n",
    "print(int(path[-31:-30]))"
   ]
  }
 ],
 "metadata": {
  "kernelspec": {
   "display_name": "Python 3",
   "language": "python",
   "name": "python3"
  },
  "language_info": {
   "codemirror_mode": {
    "name": "ipython",
    "version": 3
   },
   "file_extension": ".py",
   "mimetype": "text/x-python",
   "name": "python",
   "nbconvert_exporter": "python",
   "pygments_lexer": "ipython3",
   "version": "3.9.16"
  },
  "orig_nbformat": 4
 },
 "nbformat": 4,
 "nbformat_minor": 2
}
