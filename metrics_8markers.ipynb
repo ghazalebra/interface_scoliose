{
 "cells": [
  {
   "cell_type": "code",
   "execution_count": 1,
   "metadata": {},
   "outputs": [],
   "source": [
    "import numpy as np"
   ]
  },
  {
   "cell_type": "code",
   "execution_count": 2,
   "metadata": {},
   "outputs": [],
   "source": [
    "coordo = {'T1':[56, 10, 1900], 'T2':[61, -60, 1895], 'L': [49, -147, 1907]}"
   ]
  },
  {
   "cell_type": "code",
   "execution_count": 7,
   "metadata": {},
   "outputs": [
    {
     "name": "stdout",
     "output_type": "stream",
     "text": [
      "70.178344238091 87.82368700982668 157.15597347857954\n",
      "168.0610699180468\n"
     ]
    }
   ],
   "source": [
    "a = np.sqrt((coordo['T1'][0]-coordo['T2'][0])**2+(coordo['T1'][1]-coordo['T2'][1])**2)\n",
    "b = np.sqrt((coordo['T2'][0]-coordo['L'][0])**2+(coordo['T2'][1]-coordo['L'][1])**2)\n",
    "c = np.sqrt((coordo['T1'][0]-coordo['L'][0])**2+(coordo['T1'][1]-coordo['L'][1])**2)\n",
    "print(a, b, c)\n",
    "scoliosis_angle = np.degrees(np.arccos((a**2+b**2-c**2)/(2*a*b)))\n",
    "print(scoliosis_angle)"
   ]
  }
 ],
 "metadata": {
  "kernelspec": {
   "display_name": "Python 3",
   "language": "python",
   "name": "python3"
  },
  "language_info": {
   "codemirror_mode": {
    "name": "ipython",
    "version": 3
   },
   "file_extension": ".py",
   "mimetype": "text/x-python",
   "name": "python",
   "nbconvert_exporter": "python",
   "pygments_lexer": "ipython3",
   "version": "3.9.16"
  },
  "orig_nbformat": 4
 },
 "nbformat": 4,
 "nbformat_minor": 2
}
