{
 "cells": [
  {
   "cell_type": "code",
   "execution_count": 37,
   "metadata": {},
   "outputs": [],
   "source": [
    "import os\n",
    "import cv2\n",
    "from tqdm import tqdm\n",
    "import numpy as np\n",
    "import scipy\n",
    "import open3d as o3d\n",
    "import read_raw_file as RRF\n",
    "import preprocess as PRE\n",
    "import copy\n"
   ]
  },
  {
   "cell_type": "code",
   "execution_count": 6,
   "metadata": {},
   "outputs": [
    {
     "name": "stderr",
     "output_type": "stream",
     "text": [
      "100%|██████████| 559870/559870 [00:00<00:00, 1314602.35it/s]\n",
      "100%|██████████| 560073/560073 [00:00<00:00, 1427837.27it/s]\n",
      "100%|██████████| 560157/560157 [00:00<00:00, 1365205.05it/s]\n",
      "100%|██████████| 559153/559153 [00:00<00:00, 1405223.54it/s]\n",
      "100%|██████████| 559109/559109 [00:00<00:00, 1269521.67it/s]\n",
      "100%|██████████| 559574/559574 [00:00<00:00, 1382424.40it/s]\n",
      "100%|██████████| 560231/560231 [00:00<00:00, 1369930.71it/s]\n",
      "100%|██████████| 560043/560043 [00:00<00:00, 1423113.17it/s]\n",
      "100%|██████████| 559411/559411 [00:00<00:00, 1360750.75it/s]\n",
      "100%|██████████| 561140/561140 [00:00<00:00, 1383352.54it/s]\n",
      "100%|██████████| 561146/561146 [00:00<00:00, 1358474.54it/s]\n",
      "100%|██████████| 560193/560193 [00:00<00:00, 1434210.50it/s]\n",
      "100%|██████████| 560564/560564 [00:00<00:00, 1368921.36it/s]\n",
      "100%|██████████| 559707/559707 [00:00<00:00, 1390890.59it/s]\n",
      "100%|██████████| 561397/561397 [00:00<00:00, 1361338.84it/s]\n",
      "100%|██████████| 561181/561181 [00:00<00:00, 1383200.78it/s]\n",
      "100%|██████████| 560646/560646 [00:00<00:00, 1364512.96it/s]\n",
      "100%|██████████| 559740/559740 [00:00<00:00, 1408449.86it/s]\n",
      "100%|██████████| 561499/561499 [00:00<00:00, 1341646.16it/s]\n",
      "100%|██████████| 560399/560399 [00:00<00:00, 1379315.79it/s]\n",
      "100%|██████████| 560417/560417 [00:00<00:00, 1347261.62it/s]\n",
      "100%|██████████| 560465/560465 [00:00<00:00, 1352332.30it/s]\n",
      "100%|██████████| 561143/561143 [00:00<00:00, 1344448.12it/s]\n",
      "100%|██████████| 561228/561228 [00:00<00:00, 1384707.29it/s]\n",
      "100%|██████████| 560697/560697 [00:00<00:00, 1327825.14it/s]\n",
      "100%|██████████| 563462/563462 [00:00<00:00, 1347100.90it/s]\n",
      "100%|██████████| 563208/563208 [00:00<00:00, 1359876.28it/s]\n",
      "100%|██████████| 564332/564332 [00:00<00:00, 1391241.26it/s]\n",
      "100%|██████████| 564574/564574 [00:00<00:00, 1292172.35it/s]\n",
      "100%|██████████| 565965/565965 [00:00<00:00, 1349057.13it/s]\n",
      "100%|██████████| 565806/565806 [00:00<00:00, 1370457.53it/s]\n",
      "100%|██████████| 565607/565607 [00:00<00:00, 1373983.24it/s]\n",
      "100%|██████████| 566427/566427 [00:00<00:00, 1345907.15it/s]\n",
      "100%|██████████| 566110/566110 [00:00<00:00, 1370986.42it/s]\n",
      "100%|██████████| 567000/567000 [00:00<00:00, 1346576.00it/s]\n",
      "100%|██████████| 568069/568069 [00:00<00:00, 1431220.32it/s]\n",
      "100%|██████████| 568150/568150 [00:00<00:00, 1335130.22it/s]\n",
      "100%|██████████| 568564/568564 [00:00<00:00, 1432259.24it/s]\n",
      "100%|██████████| 568382/568382 [00:00<00:00, 1353238.76it/s]\n",
      "100%|██████████| 568143/568143 [00:00<00:00, 1343944.69it/s]\n",
      "100%|██████████| 568209/568209 [00:00<00:00, 1294900.62it/s]\n",
      "100%|██████████| 567777/567777 [00:00<00:00, 1419237.45it/s]\n",
      "100%|██████████| 567716/567716 [00:00<00:00, 1373739.93it/s]\n",
      "100%|██████████| 566230/566230 [00:00<00:00, 1419017.92it/s]\n",
      "100%|██████████| 567582/567582 [00:00<00:00, 1257175.52it/s]\n",
      "100%|██████████| 565420/565420 [00:00<00:00, 1381758.19it/s]\n",
      "100%|██████████| 566752/566752 [00:00<00:00, 1350857.06it/s]\n",
      "100%|██████████| 566242/566242 [00:00<00:00, 1386908.75it/s]\n",
      "100%|██████████| 565631/565631 [00:00<00:00, 1329354.41it/s]\n",
      "100%|██████████| 566094/566094 [00:00<00:00, 1445886.86it/s]\n",
      "100%|██████████| 565966/565966 [00:00<00:00, 1354987.32it/s]\n",
      "100%|██████████| 566780/566780 [00:00<00:00, 1426210.52it/s]\n",
      "100%|██████████| 567369/567369 [00:00<00:00, 1337528.91it/s]\n",
      "100%|██████████| 565588/565588 [00:00<00:00, 1432874.27it/s]\n",
      "100%|██████████| 564116/564116 [00:00<00:00, 1352002.11it/s]\n",
      "100%|██████████| 561455/561455 [00:00<00:00, 1376879.58it/s]\n",
      "100%|██████████| 561911/561911 [00:00<00:00, 1319582.36it/s]\n",
      "100%|██████████| 560453/560453 [00:00<00:00, 1351926.93it/s]\n",
      "100%|██████████| 559983/559983 [00:00<00:00, 1338487.44it/s]\n",
      "100%|██████████| 561085/561085 [00:00<00:00, 1431503.12it/s]\n",
      "100%|██████████| 561223/561223 [00:00<00:00, 1353789.77it/s]\n",
      "100%|██████████| 561766/561766 [00:00<00:00, 1366805.01it/s]\n",
      "100%|██████████| 560690/560690 [00:00<00:00, 1362421.47it/s]\n",
      "100%|██████████| 560226/560226 [00:00<00:00, 1360662.59it/s]\n",
      "100%|██████████| 560653/560653 [00:00<00:00, 1340660.37it/s]\n",
      "100%|██████████| 558562/558562 [00:00<00:00, 1363524.31it/s]\n",
      "100%|██████████| 558645/558645 [00:00<00:00, 1386880.90it/s]\n",
      "100%|██████████| 558120/558120 [00:00<00:00, 1363565.11it/s]\n",
      "100%|██████████| 556843/556843 [00:00<00:00, 1373967.46it/s]\n",
      "100%|██████████| 556125/556125 [00:00<00:00, 1425549.82it/s]\n",
      "100%|██████████| 555221/555221 [00:00<00:00, 1356507.73it/s]\n",
      "100%|██████████| 555875/555875 [00:00<00:00, 1373119.43it/s]\n",
      "100%|██████████| 558086/558086 [00:00<00:00, 1366159.82it/s]\n",
      "100%|██████████| 558052/558052 [00:00<00:00, 1364444.90it/s]\n",
      "100%|██████████| 557574/557574 [00:00<00:00, 1359145.95it/s]\n",
      "100%|██████████| 558139/558139 [00:00<00:00, 1345274.30it/s]\n",
      "100%|██████████| 557101/557101 [00:00<00:00, 1346696.04it/s]\n",
      "100%|██████████| 558804/558804 [00:00<00:00, 1342175.36it/s]\n",
      "100%|██████████| 557421/557421 [00:00<00:00, 1337000.73it/s]\n",
      "100%|██████████| 558440/558440 [00:00<00:00, 1436103.22it/s]\n",
      "100%|██████████| 560090/560090 [00:00<00:00, 1346350.49it/s]\n",
      "100%|██████████| 561293/561293 [00:00<00:00, 1357835.08it/s]\n",
      "100%|██████████| 82/82 [02:19<00:00,  1.70s/it]\n"
     ]
    }
   ],
   "source": [
    "path = r'D:\\StageE23\\Data\\Ete_2022\\Participant11\\autocorrection\\Prise01'\n",
    "save_path1 = path + '/intensity_removed_bg/'\n",
    "save_path2 = path + '/xyz_removed_bg/'\n",
    "intensity_path = path + '/intensity/'\n",
    "xyz_path = path + '/xyz/'\n",
    "\n",
    "os.makedirs(save_path1, exist_ok=True)\n",
    "os.makedirs(save_path2, exist_ok=True)\n",
    "\n",
    "for filename in tqdm(os.listdir(intensity_path)):\n",
    "        index_I = filename.find('_I') + 1\n",
    "        xyz_file = filename[:index_I] + 'XYZ_' + filename[index_I+2:-4] + '.raw'\n",
    "        image_path = os.path.join(intensity_path, filename)\n",
    "        pc_path = os.path.join(xyz_path, xyz_file)\n",
    "        xyz = PRE.read_single_xyz_raw_file(pc_path)\n",
    "        image = cv2.imread(image_path, cv2.IMREAD_GRAYSCALE)\n",
    "        \n",
    "        removed_bg_points, image_no_bg = PRE.remove_bg(xyz, image)\n",
    "        \n",
    "        save_image_path = os.path.join(save_path1, filename)\n",
    "        cv2.imwrite(save_image_path, image_no_bg)\n",
    "\n",
    "        pc_removed_bg = o3d.geometry.PointCloud()\n",
    "        pc_removed_bg.points = o3d.utility.Vector3dVector(removed_bg_points)\n",
    "        cl, ind = pc_removed_bg.remove_statistical_outlier(nb_neighbors=20,\n",
    "                                                std_ratio=2.0)\n",
    "        inlier_removed_bg = pc_removed_bg.select_by_index(ind)\n",
    "\n",
    "        save_xyz_path = os.path.join(save_path2, xyz_file[:-4] + '.ply')\n",
    "        o3d.io.write_point_cloud(save_xyz_path, inlier_removed_bg)"
   ]
  },
  {
   "cell_type": "code",
   "execution_count": 3,
   "metadata": {},
   "outputs": [],
   "source": [
    "pc0 = o3d.io.read_point_cloud(r'D:\\StageE23\\Data\\Ete_2022\\Participant11\\autocorrection\\Prise01\\xyz_removed_bg\\auto_01_012915_XYZ_0.ply')\n",
    "pc1 = o3d.io.read_point_cloud(r'D:\\StageE23\\Data\\Ete_2022\\Participant11\\autocorrection\\Prise01\\xyz_removed_bg\\auto_01_012917_XYZ_1.ply')\n",
    "pc40 = o3d.io.read_point_cloud(r'D:\\StageE23\\Data\\Ete_2022\\Participant11\\autocorrection\\Prise01\\xyz_removed_bg\\auto_01_012973_XYZ_40.ply')\n",
    "pc80 = o3d.io.read_point_cloud(r'D:\\StageE23\\Data\\Ete_2022\\Participant11\\autocorrection\\Prise01\\xyz_removed_bg\\auto_01_013030_XYZ_80.ply')\n",
    "\n",
    "o3d.visualization.draw_geometries([pc0])"
   ]
  },
  {
   "cell_type": "code",
   "execution_count": 4,
   "metadata": {},
   "outputs": [],
   "source": [
    "def crop_pc(pc):\n",
    "    pc_array = np.asarray(pc.points)\n",
    "\n",
    "    legs = np.where(pc_array[:,0] < -190)\n",
    "    head = np.where(pc_array[:,0] > np.max(pc_array[:,0])-250)\n",
    "    armR = np.where(pc_array[:,1] > np.max(pc_array[:,1])-110)\n",
    "    armL = np.where(pc_array[:,1] < np.min(pc_array[:,1])+110)\n",
    "\n",
    "    mask = np.ones((pc_array.shape[0],3), dtype=bool)\n",
    "    mask[legs] = False\n",
    "    mask[head] = False\n",
    "    mask[armR] = False\n",
    "    mask[armL] = False\n",
    "    #mask.reshape((500123, 3))\n",
    "\n",
    "    back = np.array(pc_array[mask], dtype=np.float64)\n",
    "\n",
    "    pc = np.array(back.reshape((back.shape[0]//3, 3)))\n",
    "\n",
    "    pc_cropped = o3d.geometry.PointCloud()\n",
    "    pc_cropped.points = o3d.utility.Vector3dVector(pc)\n",
    "    \n",
    "    return pc_cropped\n",
    "\n",
    "pc_center = crop_pc(pc0)\n",
    "o3d.visualization.draw_geometries([pc_center])\n"
   ]
  },
  {
   "cell_type": "code",
   "execution_count": 21,
   "metadata": {},
   "outputs": [
    {
     "name": "stdout",
     "output_type": "stream",
     "text": [
      "[[ 9.99999999e-01  1.75378591e-05  4.58211881e-05 -9.37219604e-02]\n",
      " [-1.75525778e-05  9.99999948e-01  3.21239022e-04 -5.64499074e-01]\n",
      " [-4.58155519e-05 -3.21239826e-04  9.99999947e-01 -4.54371724e-01]\n",
      " [ 0.00000000e+00  0.00000000e+00  0.00000000e+00  1.00000000e+00]]\n",
      "[[ 9.99999999e-01  5.74272416e-06  4.93823243e-05 -8.81731783e-02]\n",
      " [-5.73692305e-06  9.99999993e-01 -1.17472814e-04  2.07972091e-01]\n",
      " [-4.93829985e-05  1.17472531e-04  9.99999992e-01 -5.51865912e-03]\n",
      " [ 0.00000000e+00  0.00000000e+00  0.00000000e+00  1.00000000e+00]]\n"
     ]
    }
   ],
   "source": [
    "body0 = crop_pc(pc0)\n",
    "body1 = crop_pc(pc1)\n",
    "body40 = crop_pc(pc40)\n",
    "body80 = crop_pc(pc80)\n",
    "\n",
    "icp1 = o3d.pipelines.registration.registration_icp(body0, body1, 0.1)\n",
    "print(icp1.transformation)\n",
    "\n",
    "icp40 = o3d.pipelines.registration.registration_icp(body0, body40, 0.1)\n",
    "print(icp40.transformation)\n",
    "\n",
    "#draw_registration_result_original_color(body0, body1, icp.transformation)"
   ]
  },
  {
   "cell_type": "code",
   "execution_count": 44,
   "metadata": {},
   "outputs": [
    {
     "name": "stdout",
     "output_type": "stream",
     "text": [
      "[[-9.88536980e-01+0.j         -3.77950307e-02-0.09984415j\n",
      "  -3.77950307e-02+0.09984415j  9.88536980e-01+0.j        ]\n",
      " [ 1.40995002e-01+0.j          5.39070417e-03-0.70002225j\n",
      "   5.39070417e-03+0.70002225j -1.40995002e-01+0.j        ]\n",
      " [-5.39911852e-02+0.j          7.06075404e-01+0.j\n",
      "   7.06075404e-01-0.j          5.39911854e-02+0.j        ]\n",
      " [ 0.00000000e+00+0.j          0.00000000e+00+0.j\n",
      "   0.00000000e+00-0.j          1.12238782e-13+0.j        ]]\n"
     ]
    }
   ],
   "source": [
    "mt = icp1.transformation\n",
    "print(np.linalg.eig(mt)[1])"
   ]
  }
 ],
 "metadata": {
  "kernelspec": {
   "display_name": "Python 3",
   "language": "python",
   "name": "python3"
  },
  "language_info": {
   "codemirror_mode": {
    "name": "ipython",
    "version": 3
   },
   "file_extension": ".py",
   "mimetype": "text/x-python",
   "name": "python",
   "nbconvert_exporter": "python",
   "pygments_lexer": "ipython3",
   "version": "3.9.16"
  },
  "orig_nbformat": 4
 },
 "nbformat": 4,
 "nbformat_minor": 2
}
