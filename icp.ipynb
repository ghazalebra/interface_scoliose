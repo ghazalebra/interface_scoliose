{
 "cells": [
  {
   "cell_type": "code",
   "execution_count": 2,
   "metadata": {},
   "outputs": [],
   "source": [
    "import os\n",
    "import cv2\n",
    "from tqdm import tqdm\n",
    "import numpy as np\n",
    "import scipy\n",
    "import open3d as o3d\n",
    "import read_raw_file as RRF\n",
    "import preprocess as PRE\n",
    "import copy\n"
   ]
  },
  {
   "cell_type": "code",
   "execution_count": 85,
   "metadata": {},
   "outputs": [
    {
     "name": "stderr",
     "output_type": "stream",
     "text": [
      "100%|██████████| 452212/452212 [00:00<00:00, 1385495.76it/s]\n",
      "100%|██████████| 452325/452325 [00:00<00:00, 1272387.68it/s]\n",
      "100%|██████████| 452233/452233 [00:00<00:00, 1362880.58it/s]\n",
      "100%|██████████| 452226/452226 [00:00<00:00, 1400603.82it/s]\n",
      "100%|██████████| 452705/452705 [00:00<00:00, 1361337.31it/s]\n",
      "100%|██████████| 453301/453301 [00:00<00:00, 1429699.96it/s]\n",
      "100%|██████████| 454870/454870 [00:00<00:00, 1358330.20it/s]\n",
      "100%|██████████| 455000/455000 [00:00<00:00, 1316333.40it/s]\n",
      "100%|██████████| 455483/455483 [00:00<00:00, 1352624.15it/s]\n",
      "100%|██████████| 456350/456350 [00:00<00:00, 1328406.68it/s]\n",
      "100%|██████████| 456855/456855 [00:00<00:00, 1277320.37it/s]\n",
      "100%|██████████| 456939/456939 [00:00<00:00, 1396264.86it/s]\n",
      "100%|██████████| 456694/456694 [00:00<00:00, 1419800.18it/s]\n",
      "100%|██████████| 457269/457269 [00:00<00:00, 1403702.61it/s]\n",
      "100%|██████████| 457118/457118 [00:00<00:00, 1342505.98it/s]\n",
      "100%|██████████| 456359/456359 [00:00<00:00, 1420039.66it/s]\n",
      "100%|██████████| 456503/456503 [00:00<00:00, 1331838.55it/s]\n",
      "100%|██████████| 456031/456031 [00:00<00:00, 1334967.89it/s]\n",
      "100%|██████████| 452703/452703 [00:00<00:00, 1331341.58it/s]\n",
      "100%|██████████| 450876/450876 [00:00<00:00, 1398805.58it/s]\n",
      "100%|██████████| 450743/450743 [00:00<00:00, 1353482.99it/s]\n",
      "100%|██████████| 450139/450139 [00:00<00:00, 1316676.85it/s]\n",
      "100%|██████████| 449581/449581 [00:00<00:00, 1315967.00it/s]\n",
      "100%|██████████| 449436/449436 [00:00<00:00, 1269210.79it/s]\n",
      "100%|██████████| 449801/449801 [00:00<00:00, 1382663.98it/s]\n",
      "100%|██████████| 450551/450551 [00:00<00:00, 1359344.05it/s]\n",
      "100%|██████████| 450140/450140 [00:00<00:00, 1384667.06it/s]\n",
      "100%|██████████| 449628/449628 [00:00<00:00, 1435214.77it/s]\n",
      "100%|██████████| 449623/449623 [00:00<00:00, 1356619.35it/s]\n",
      "100%|██████████| 449418/449418 [00:00<00:00, 1376981.72it/s]\n",
      "100%|██████████| 448968/448968 [00:00<00:00, 1394726.62it/s]\n",
      "100%|██████████| 449422/449422 [00:00<00:00, 1402121.76it/s]\n",
      "100%|██████████| 448738/448738 [00:00<00:00, 1384774.23it/s]\n",
      "100%|██████████| 449213/449213 [00:00<00:00, 1327374.12it/s]\n",
      "100%|██████████| 448822/448822 [00:00<00:00, 1431431.73it/s]\n",
      "100%|██████████| 449385/449385 [00:00<00:00, 1405758.08it/s]\n",
      "100%|██████████| 448867/448867 [00:00<00:00, 1348770.00it/s]\n",
      "100%|██████████| 449278/449278 [00:00<00:00, 1242257.20it/s]\n",
      "100%|██████████| 449435/449435 [00:00<00:00, 1383421.71it/s]\n",
      "100%|██████████| 448832/448832 [00:00<00:00, 1380658.74it/s]\n",
      "100%|██████████| 448705/448705 [00:00<00:00, 1359139.96it/s]\n",
      "100%|██████████| 448631/448631 [00:00<00:00, 1361677.12it/s]\n",
      "100%|██████████| 448711/448711 [00:00<00:00, 1336486.08it/s]\n",
      "100%|██████████| 448616/448616 [00:00<00:00, 1393478.31it/s]\n",
      "100%|██████████| 448920/448920 [00:00<00:00, 1307832.21it/s]\n",
      "100%|██████████| 449098/449098 [00:00<00:00, 1354715.65it/s]\n",
      "100%|██████████| 448865/448865 [00:00<00:00, 1361039.01it/s]\n",
      "100%|██████████| 449363/449363 [00:00<00:00, 1316549.04it/s]\n",
      "100%|██████████| 449084/449084 [00:00<00:00, 1357382.44it/s]\n",
      "100%|██████████| 449311/449311 [00:00<00:00, 1374948.42it/s]\n",
      "100%|██████████| 448600/448600 [00:00<00:00, 1362484.19it/s]\n",
      "100%|██████████| 449449/449449 [00:00<00:00, 1370858.96it/s]\n",
      "100%|██████████| 448949/448949 [00:00<00:00, 1367338.31it/s]\n",
      "100%|██████████| 448955/448955 [00:00<00:00, 1355547.76it/s]\n",
      "100%|██████████| 448971/448971 [00:00<00:00, 1382876.39it/s]\n",
      "100%|██████████| 449116/449116 [00:00<00:00, 1399076.38it/s]\n",
      "100%|██████████| 448808/448808 [00:00<00:00, 1357370.85it/s]\n",
      "100%|██████████| 449033/449033 [00:00<00:00, 1452459.43it/s]\n",
      "100%|██████████| 448570/448570 [00:00<00:00, 1277545.66it/s]\n",
      "100%|██████████| 449125/449125 [00:00<00:00, 1350075.28it/s]\n",
      "100%|██████████| 449021/449021 [00:00<00:00, 1365062.69it/s]\n",
      "100%|██████████| 449440/449440 [00:00<00:00, 1395213.27it/s]\n",
      "100%|██████████| 449483/449483 [00:00<00:00, 1376451.89it/s]\n",
      "100%|██████████| 449053/449053 [00:00<00:00, 1312560.18it/s]\n",
      "100%|██████████| 449046/449046 [00:00<00:00, 1367823.44it/s]\n",
      "100%|██████████| 448718/448718 [00:00<00:00, 1356501.02it/s]\n",
      "100%|██████████| 449149/449149 [00:00<00:00, 1339674.32it/s]\n",
      "100%|██████████| 448743/448743 [00:00<00:00, 1399046.00it/s]\n",
      "100%|██████████| 448999/448999 [00:00<00:00, 1318930.10it/s]\n",
      "100%|██████████| 448905/448905 [00:00<00:00, 1390337.75it/s]\n",
      "100%|██████████| 449302/449302 [00:00<00:00, 1360726.20it/s]\n",
      "100%|██████████| 449331/449331 [00:00<00:00, 1404945.79it/s]\n",
      "100%|██████████| 449146/449146 [00:00<00:00, 1313403.16it/s]\n",
      "100%|██████████| 449239/449239 [00:00<00:00, 1389658.52it/s]\n",
      "100%|██████████| 449254/449254 [00:00<00:00, 1369038.66it/s]\n",
      "100%|██████████| 449156/449156 [00:00<00:00, 1396203.07it/s]\n",
      "100%|██████████| 449136/449136 [00:00<00:00, 1378331.79it/s]\n",
      "100%|██████████| 449413/449413 [00:00<00:00, 1375200.35it/s]\n",
      "100%|██████████| 449608/449608 [00:00<00:00, 1376078.15it/s]\n",
      "100%|██████████| 79/79 [01:29<00:00,  1.13s/it]\n"
     ]
    }
   ],
   "source": [
    "path = r'D:\\StageE23\\Data\\Ete_2022\\Participant06\\autocorrection\\Prise02'\n",
    "save_path1 = path + '/intensity_removed_bg/'\n",
    "save_path2 = path + '/xyz_removed_bg/'\n",
    "intensity_path = path + '/intensity/'\n",
    "xyz_path = path + '/xyz/'\n",
    "\n",
    "os.makedirs(save_path1, exist_ok=True)\n",
    "os.makedirs(save_path2, exist_ok=True)\n",
    "\n",
    "for filename in tqdm(os.listdir(intensity_path)):\n",
    "        index_I = filename.find('_I') + 1\n",
    "        xyz_file = filename[:index_I] + 'XYZ_' + filename[index_I+2:-4] + '.raw'\n",
    "        image_path = os.path.join(intensity_path, filename)\n",
    "        pc_path = os.path.join(xyz_path, xyz_file)\n",
    "        xyz = PRE.read_single_xyz_raw_file(pc_path)\n",
    "        image = cv2.imread(image_path, cv2.IMREAD_GRAYSCALE)\n",
    "        \n",
    "        removed_bg_points, image_no_bg = PRE.remove_bg(xyz, image)\n",
    "        \n",
    "        save_image_path = os.path.join(save_path1, filename)\n",
    "        cv2.imwrite(save_image_path, image_no_bg)\n",
    "\n",
    "        pc_removed_bg = o3d.geometry.PointCloud()\n",
    "        pc_removed_bg.points = o3d.utility.Vector3dVector(removed_bg_points)\n",
    "        cl, ind = pc_removed_bg.remove_statistical_outlier(nb_neighbors=20,\n",
    "                                                std_ratio=2.0)\n",
    "        inlier_removed_bg = pc_removed_bg.select_by_index(ind)\n",
    "\n",
    "        save_xyz_path = os.path.join(save_path2, xyz_file[:-4] + '.ply')\n",
    "        o3d.io.write_point_cloud(save_xyz_path, inlier_removed_bg)"
   ]
  },
  {
   "cell_type": "code",
   "execution_count": 46,
   "metadata": {},
   "outputs": [],
   "source": [
    "pc0 = o3d.io.read_point_cloud(r'D:\\StageE23\\Data\\Ete_2022\\Participant06\\autocorrection\\Prise01\\xyz_removed_bg\\auto_01_007367_XYZ_0.ply')\n",
    "pc1 = o3d.io.read_point_cloud(r'D:\\StageE23\\Data\\Ete_2022\\Participant06\\autocorrection\\Prise01\\xyz_removed_bg\\auto_01_007368_XYZ_1.ply')\n",
    "pc40 = o3d.io.read_point_cloud(r'D:\\StageE23\\Data\\Ete_2022\\Participant06\\autocorrection\\Prise01\\xyz_removed_bg\\auto_01_007427_XYZ_40.ply')\n",
    "pc72 = o3d.io.read_point_cloud(r'D:\\StageE23\\Data\\Ete_2022\\Participant06\\autocorrection\\Prise01\\xyz_removed_bg\\auto_01_007481_XYZ_72.ply')\n",
    "\n",
    "o3d.visualization.draw_geometries([pc0])"
   ]
  },
  {
   "cell_type": "code",
   "execution_count": 53,
   "metadata": {},
   "outputs": [],
   "source": [
    "def crop_pc(pc):\n",
    "    pc_array = np.asarray(pc.points)\n",
    "\n",
    "    legs = np.where(pc_array[:,0] < -200)\n",
    "    head = np.where(pc_array[:,0] > np.max(pc_array[:,0])-280)\n",
    "    armR = np.where(pc_array[:,1] > np.max(pc_array[:,1])-110)\n",
    "    armL = np.where(pc_array[:,1] < np.min(pc_array[:,1])+110)\n",
    "\n",
    "    mask = np.ones((pc_array.shape[0],3), dtype=bool)\n",
    "    mask[legs] = False\n",
    "    mask[head] = False\n",
    "    mask[armR] = False\n",
    "    mask[armL] = False\n",
    "    #mask.reshape((500123, 3))\n",
    "\n",
    "    back = np.array(pc_array[mask], dtype=np.float64)\n",
    "\n",
    "    pc = np.array(back.reshape((back.shape[0]//3, 3)))\n",
    "\n",
    "    pc_cropped = o3d.geometry.PointCloud()\n",
    "    pc_cropped.points = o3d.utility.Vector3dVector(pc)\n",
    "    \n",
    "    return pc_cropped\n",
    "\n",
    "pc_center = crop_pc(pc0)\n",
    "o3d.visualization.draw_geometries([pc_center])\n"
   ]
  },
  {
   "cell_type": "code",
   "execution_count": 54,
   "metadata": {},
   "outputs": [],
   "source": [
    "def draw_registration_result(source, target, transformation):\n",
    "    source_temp = copy.deepcopy(source)\n",
    "    target_temp = copy.deepcopy(target)\n",
    "    source_temp.paint_uniform_color([1, 0.706, 0])\n",
    "    target_temp.paint_uniform_color([0, 0.651, 0.929])\n",
    "    source_temp.transform(transformation)\n",
    "    o3d.visualization.draw_geometries([source_temp, target_temp])"
   ]
  },
  {
   "cell_type": "code",
   "execution_count": 66,
   "metadata": {},
   "outputs": [
    {
     "name": "stdout",
     "output_type": "stream",
     "text": [
      "[[ 9.99999998e-01  4.90122558e-05  3.66597539e-05 -6.65848782e-02]\n",
      " [-4.88960038e-05  9.99994992e-01 -3.16441350e-03  6.01753542e+00]\n",
      " [-3.68146654e-05  3.16441170e-03  9.99994993e-01 -4.08602392e-01]\n",
      " [ 0.00000000e+00  0.00000000e+00  0.00000000e+00  1.00000000e+00]]\n",
      "[[ 9.99990322e-01  3.26052401e-03  2.95392065e-03 -8.23755694e+00]\n",
      " [-2.59254330e-03  9.79148998e-01 -2.03126854e-01  4.00921721e+02]\n",
      " [-3.55462844e-03  2.03117230e-01  9.79147974e-01  3.45915971e+01]\n",
      " [ 0.00000000e+00  0.00000000e+00  0.00000000e+00  1.00000000e+00]]\n"
     ]
    }
   ],
   "source": [
    "body0 = crop_pc(pc0)\n",
    "body1 = crop_pc(pc1)\n",
    "body40 = crop_pc(pc40)\n",
    "body72 = crop_pc(pc72)\n",
    "\n",
    "trans_init = np.identity(4)\n",
    "\n",
    "icp1 = o3d.pipelines.registration.registration_icp(body0, body1, 10, trans_init, o3d.pipelines.registration.TransformationEstimationPointToPoint())\n",
    "print(icp1.transformation)\n",
    "\n",
    "icp40 = o3d.pipelines.registration.registration_icp(body0, body40, 10, trans_init, o3d.pipelines.registration.TransformationEstimationPointToPoint())\n",
    "print(icp40.transformation)\n",
    "\n",
    "draw_registration_result(body0, body40, icp40.transformation)"
   ]
  },
  {
   "cell_type": "code",
   "execution_count": 80,
   "metadata": {},
   "outputs": [
    {
     "name": "stdout",
     "output_type": "stream",
     "text": [
      "[ -8.23755694 400.92172093  34.59159705]\n",
      "Distance de translation : 402.4955431318786 mm\n",
      "[[ 0.99999032  0.00326052  0.00295392]\n",
      " [-0.00259254  0.979149   -0.20312685]\n",
      " [-0.00355463  0.20311723  0.97914797]]\n",
      "[[1. 0. 0.]\n",
      " [0. 1. 0.]\n",
      " [0. 0. 1.]]\n",
      "[[ 0.99999032  0.00326052  0.00295392]\n",
      " [-0.00259254  0.979149   -0.20312685]\n",
      " [-0.00355463  0.20311723  0.97914797]]\n"
     ]
    }
   ],
   "source": [
    "RST = icp40.transformation\n",
    "T = RST[0:3, 3]\n",
    "print(T)\n",
    "len_T = np.linalg.norm(T)\n",
    "print(f'Distance de translation : {len_T} mm')\n",
    "RS = RST[0:3, 0:3]\n",
    "print(RS)\n",
    "S = np.zeros((3,3))\n",
    "S[0,0] = np.linalg.norm(RS[:,0])\n",
    "S[1,1] = np.linalg.norm(RS[:,1])\n",
    "S[2,2] = np.linalg.norm(RS[:,2])\n",
    "print(S)\n",
    "R = np.matmul(RS, np.linalg.inv(S)) #S est la matric identité, donc R=RS, aucun scaling\n",
    "print(R)"
   ]
  },
  {
   "cell_type": "code",
   "execution_count": 84,
   "metadata": {},
   "outputs": [
    {
     "name": "stdout",
     "output_type": "stream",
     "text": [
      "11.722346017916534\n",
      "[ 0.99976795  0.01601756 -0.01440442]\n"
     ]
    }
   ],
   "source": [
    "Tr = np.trace(R)\n",
    "cos_rot = (Tr-1)/2\n",
    "angle_rot = np.degrees(np.arccos(cos_rot))\n",
    "print(angle_rot)\n",
    "\n",
    "axis_rot = np.multiply(1/np.sqrt((3-Tr)*(1+Tr)), np.array([R[2,1]-R[1,2], R[0,2]-R[2,0], R[1,0]-R[0,1]]))\n",
    "print(axis_rot)"
   ]
  }
 ],
 "metadata": {
  "kernelspec": {
   "display_name": "Python 3",
   "language": "python",
   "name": "python3"
  },
  "language_info": {
   "codemirror_mode": {
    "name": "ipython",
    "version": 3
   },
   "file_extension": ".py",
   "mimetype": "text/x-python",
   "name": "python",
   "nbconvert_exporter": "python",
   "pygments_lexer": "ipython3",
   "version": "3.9.16"
  },
  "orig_nbformat": 4
 },
 "nbformat": 4,
 "nbformat_minor": 2
}
