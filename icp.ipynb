{
 "cells": [
  {
   "cell_type": "code",
   "execution_count": 1,
   "metadata": {},
   "outputs": [
    {
     "name": "stdout",
     "output_type": "stream",
     "text": [
      "Jupyter environment detected. Enabling Open3D WebVisualizer.\n",
      "[Open3D INFO] WebRTC GUI backend enabled.\n",
      "[Open3D INFO] WebRTCWindowSystem: HTTP handshake server disabled.\n"
     ]
    }
   ],
   "source": [
    "import os\n",
    "import cv2\n",
    "from tqdm import tqdm\n",
    "import numpy as np\n",
    "import math\n",
    "import scipy\n",
    "import open3d as o3d\n",
    "import read_raw_file as RRF\n",
    "import preprocess as PRE\n",
    "import copy\n"
   ]
  },
  {
   "cell_type": "code",
   "execution_count": 2,
   "metadata": {},
   "outputs": [
    {
     "name": "stderr",
     "output_type": "stream",
     "text": [
      "100%|██████████| 498741/498741 [00:00<00:00, 1354557.36it/s]\n",
      "100%|██████████| 498056/498056 [00:00<00:00, 1351555.70it/s]\n",
      "100%|██████████| 498671/498671 [00:00<00:00, 1377252.16it/s]\n",
      "100%|██████████| 498198/498198 [00:00<00:00, 1344514.83it/s]\n",
      "100%|██████████| 497055/497055 [00:00<00:00, 1418139.49it/s]\n",
      "100%|██████████| 494335/494335 [00:00<00:00, 1375081.09it/s]\n",
      "100%|██████████| 489874/489874 [00:00<00:00, 1391506.55it/s]\n",
      "100%|██████████| 488799/488799 [00:00<00:00, 1335766.35it/s]\n",
      "100%|██████████| 486234/486234 [00:00<00:00, 1379572.14it/s]\n",
      "100%|██████████| 483801/483801 [00:00<00:00, 1338286.13it/s]\n",
      "100%|██████████| 480991/480991 [00:00<00:00, 1366721.10it/s]\n",
      "100%|██████████| 480425/480425 [00:00<00:00, 1363337.65it/s]\n",
      "100%|██████████| 480719/480719 [00:00<00:00, 1414243.73it/s]\n",
      "100%|██████████| 481444/481444 [00:00<00:00, 1354655.40it/s]\n",
      "100%|██████████| 479773/479773 [00:00<00:00, 1378918.59it/s]\n",
      "100%|██████████| 481425/481425 [00:00<00:00, 1383590.77it/s]\n",
      "100%|██████████| 484163/484163 [00:00<00:00, 1419752.11it/s]\n",
      "100%|██████████| 484799/484799 [00:00<00:00, 1356411.91it/s]\n",
      "100%|██████████| 483857/483857 [00:00<00:00, 1317002.79it/s]\n",
      "100%|██████████| 482423/482423 [00:00<00:00, 1351571.83it/s]\n",
      "100%|██████████| 484881/484881 [00:00<00:00, 1393080.23it/s]\n",
      "100%|██████████| 487972/487972 [00:00<00:00, 1383074.65it/s]\n",
      "100%|██████████| 492899/492899 [00:00<00:00, 1372115.80it/s]\n",
      "100%|██████████| 498610/498610 [00:00<00:00, 1281691.50it/s]\n",
      "100%|██████████| 496907/496907 [00:00<00:00, 1418362.69it/s]\n",
      "100%|██████████| 496440/496440 [00:00<00:00, 1346282.84it/s]\n",
      "100%|██████████| 497082/497082 [00:00<00:00, 1359208.50it/s]\n",
      "100%|██████████| 497808/497808 [00:00<00:00, 1341314.20it/s]\n",
      "100%|██████████| 501212/501212 [00:00<00:00, 1345707.18it/s]\n",
      "100%|██████████| 501462/501462 [00:00<00:00, 1371897.88it/s]\n",
      "100%|██████████| 500871/500871 [00:00<00:00, 1342903.87it/s]\n",
      "100%|██████████| 500013/500013 [00:00<00:00, 1393451.04it/s]\n",
      "100%|██████████| 499014/499014 [00:00<00:00, 1365152.56it/s]\n",
      "100%|██████████| 497437/497437 [00:00<00:00, 1339574.49it/s]\n",
      "100%|██████████| 495791/495791 [00:00<00:00, 1401775.00it/s]\n",
      "100%|██████████| 493482/493482 [00:00<00:00, 1363833.37it/s]\n",
      "100%|██████████| 491844/491844 [00:00<00:00, 1406521.21it/s]\n",
      "100%|██████████| 490650/490650 [00:00<00:00, 1394156.46it/s]\n",
      "100%|██████████| 489452/489452 [00:00<00:00, 1355049.27it/s]\n",
      "100%|██████████| 489024/489024 [00:00<00:00, 1340808.57it/s]\n",
      "100%|██████████| 489715/489715 [00:00<00:00, 1411367.26it/s]\n",
      "100%|██████████| 490018/490018 [00:00<00:00, 1360796.51it/s]\n",
      "100%|██████████| 490433/490433 [00:00<00:00, 1399637.67it/s]\n",
      "100%|██████████| 490686/490686 [00:00<00:00, 1364388.73it/s]\n",
      "100%|██████████| 490830/490830 [00:00<00:00, 1400179.98it/s]\n",
      "100%|██████████| 490917/490917 [00:00<00:00, 1359810.61it/s]\n",
      "100%|██████████| 490180/490180 [00:00<00:00, 1378359.60it/s]\n",
      "100%|██████████| 488793/488793 [00:00<00:00, 1353723.42it/s]\n",
      "100%|██████████| 488654/488654 [00:00<00:00, 1347089.78it/s]\n",
      "100%|██████████| 486507/486507 [00:00<00:00, 1359422.39it/s]\n",
      "100%|██████████| 485996/485996 [00:00<00:00, 1324130.16it/s]\n",
      "100%|██████████| 485594/485594 [00:00<00:00, 1358263.84it/s]\n",
      "100%|██████████| 485211/485211 [00:00<00:00, 1359462.69it/s]\n",
      "100%|██████████| 483570/483570 [00:00<00:00, 1369628.88it/s]\n",
      "100%|██████████| 483187/483187 [00:00<00:00, 1343011.90it/s]\n",
      "100%|██████████| 483962/483962 [00:00<00:00, 1370099.84it/s]\n",
      "100%|██████████| 484155/484155 [00:00<00:00, 1385692.29it/s]\n",
      "100%|██████████| 485853/485853 [00:00<00:00, 1377460.58it/s]\n",
      "100%|██████████| 485895/485895 [00:00<00:00, 1396950.37it/s]\n",
      "100%|██████████| 485910/485910 [00:00<00:00, 1298121.25it/s]\n",
      "100%|██████████| 484483/484483 [00:00<00:00, 1387059.82it/s]\n",
      "100%|██████████| 483600/483600 [00:00<00:00, 1392728.37it/s]\n",
      "100%|██████████| 481166/481166 [00:00<00:00, 1385541.69it/s]\n",
      "100%|██████████| 478669/478669 [00:00<00:00, 1408974.72it/s]\n",
      "100%|██████████| 477494/477494 [00:00<00:00, 1404505.76it/s]\n",
      "100%|██████████| 478061/478061 [00:00<00:00, 1426475.02it/s]\n",
      "100%|██████████| 480135/480135 [00:00<00:00, 1405838.10it/s]\n",
      "100%|██████████| 479605/479605 [00:00<00:00, 1345223.24it/s]\n",
      "100%|██████████| 477875/477875 [00:00<00:00, 1307743.97it/s]\n",
      "100%|██████████| 476300/476300 [00:00<00:00, 1362655.51it/s]\n",
      "100%|██████████| 474861/474861 [00:00<00:00, 1387865.15it/s]\n",
      "100%|██████████| 472231/472231 [00:00<00:00, 1388790.40it/s]\n",
      "100%|██████████| 472172/472172 [00:00<00:00, 1408877.91it/s]\n",
      "100%|██████████| 473446/473446 [00:00<00:00, 1415840.99it/s]\n",
      "100%|██████████| 474701/474701 [00:00<00:00, 1408816.07it/s]\n",
      "100%|██████████| 475628/475628 [00:00<00:00, 1371684.41it/s]\n",
      "100%|██████████| 476938/476938 [00:00<00:00, 1424609.89it/s]\n",
      "100%|██████████| 472755/472755 [00:00<00:00, 1393985.03it/s]\n",
      "100%|██████████| 473180/473180 [00:00<00:00, 1382364.54it/s]\n",
      "100%|██████████| 473246/473246 [00:00<00:00, 1373418.77it/s]\n",
      "100%|██████████| 471019/471019 [00:00<00:00, 1345864.29it/s]\n",
      "100%|██████████| 470469/470469 [00:00<00:00, 1279566.59it/s]\n",
      "100%|██████████| 470715/470715 [00:00<00:00, 1414740.86it/s]\n",
      "100%|██████████| 473162/473162 [00:00<00:00, 1406885.66it/s]\n",
      "100%|██████████| 474993/474993 [00:00<00:00, 1354400.60it/s]\n",
      "100%|██████████| 475030/475030 [00:00<00:00, 1298069.74it/s]\n",
      "100%|██████████| 475480/475480 [00:00<00:00, 1346705.35it/s]\n",
      "100%|██████████| 475251/475251 [00:00<00:00, 1353772.33it/s]\n",
      "100%|██████████| 474687/474687 [00:00<00:00, 1360681.33it/s]\n",
      "100%|██████████| 474831/474831 [00:00<00:00, 1369223.03it/s]\n",
      "100%|██████████| 473450/473450 [00:00<00:00, 1407352.89it/s]\n",
      "100%|██████████| 479173/479173 [00:00<00:00, 1353101.76it/s]\n",
      "100%|██████████| 92/92 [02:01<00:00,  1.32s/it]\n"
     ]
    }
   ],
   "source": [
    "path = r'D:\\StageE23\\Data\\Ete_2022\\Participant02\\BD\\Libre\\Prise01'\n",
    "save_path1 = path + '/intensity_removed_bg/'\n",
    "save_path2 = path + '/xyz_removed_bg/'\n",
    "intensity_path = path + '/intensity/'\n",
    "xyz_path = path + '/xyz/'\n",
    "\n",
    "os.makedirs(save_path1, exist_ok=True)\n",
    "os.makedirs(save_path2, exist_ok=True)\n",
    "\n",
    "for filename in tqdm(os.listdir(intensity_path)):\n",
    "        index_I = filename.find('_I') + 1\n",
    "        xyz_file = filename[:index_I] + 'XYZ_' + filename[index_I+2:-4] + '.raw'\n",
    "        image_path = os.path.join(intensity_path, filename)\n",
    "        pc_path = os.path.join(xyz_path, xyz_file)\n",
    "        xyz = PRE.read_single_xyz_raw_file(pc_path)\n",
    "        image = cv2.imread(image_path, cv2.IMREAD_GRAYSCALE)\n",
    "        \n",
    "        removed_bg_points, image_no_bg = PRE.remove_bg(xyz, image)\n",
    "        \n",
    "        save_image_path = os.path.join(save_path1, filename)\n",
    "        cv2.imwrite(save_image_path, image_no_bg)\n",
    "\n",
    "        pc_removed_bg = o3d.geometry.PointCloud()\n",
    "        pc_removed_bg.points = o3d.utility.Vector3dVector(removed_bg_points)\n",
    "        cl, ind = pc_removed_bg.remove_statistical_outlier(nb_neighbors=40,\n",
    "                                                std_ratio=1.6)\n",
    "        inlier_removed_bg = pc_removed_bg.select_by_index(ind)\n",
    "\n",
    "        save_xyz_path = os.path.join(save_path2, xyz_file[:-4] + '.ply')\n",
    "        o3d.io.write_point_cloud(save_xyz_path, inlier_removed_bg)"
   ]
  },
  {
   "cell_type": "code",
   "execution_count": 3,
   "metadata": {},
   "outputs": [],
   "source": [
    "pc0 = o3d.io.read_point_cloud(r'D:\\StageE23\\Data\\Ete_2022\\Participant02\\BD\\Libre\\Prise01\\xyz_removed_bg\\BD_libr_01_001034_XYZ_0.ply')\n",
    "pc1 = o3d.io.read_point_cloud(r'D:\\StageE23\\Data\\Ete_2022\\Participant02\\BD\\Libre\\Prise01\\xyz_removed_bg\\BD_libr_01_001035_XYZ_1.ply')\n",
    "pc40 = o3d.io.read_point_cloud(r'D:\\StageE23\\Data\\Ete_2022\\Participant02\\BD\\Libre\\Prise01\\xyz_removed_bg\\BD_libr_01_001082_XYZ_40.ply')\n",
    "pc50 = o3d.io.read_point_cloud(r'D:\\StageE23\\Data\\Ete_2022\\Participant02\\BD\\Libre\\Prise01\\xyz_removed_bg\\BD_libr_01_001094_XYZ_50.ply')\n",
    "pc72 = o3d.io.read_point_cloud(r'D:\\StageE23\\Data\\Ete_2022\\Participant02\\BD\\Libre\\Prise01\\xyz_removed_bg\\BD_libr_01_001120_XYZ_72.ply')\n",
    "\n",
    "o3d.visualization.draw_geometries([pc0])"
   ]
  },
  {
   "cell_type": "code",
   "execution_count": 4,
   "metadata": {},
   "outputs": [
    {
     "name": "stdout",
     "output_type": "stream",
     "text": [
      "[[-185.04086304 -203.23529053 1796.91711426]\n",
      " [-185.97872925 -203.29910278 1797.43640137]\n",
      " [-186.9108429  -203.35600281 1797.89440918]\n",
      " ...\n",
      " [-230.64271545  203.10369873 1842.90161133]\n",
      " [-235.64268494  203.52252197 1846.41516113]\n",
      " [-236.64251709  203.60415649 1847.09814453]]\n"
     ]
    }
   ],
   "source": [
    "def crop_pc(pc):\n",
    "    pc_array = np.asarray(pc.points)\n",
    "    print(pc_array)\n",
    " \n",
    "    legs = np.where(pc_array[:,0] < -300)\n",
    "    head = np.where(pc_array[:,0] > np.max(pc_array[:,0])-300)\n",
    "    armR = np.where(pc_array[:,1] > np.max(pc_array[:,1])-90)\n",
    "    armL = np.where(pc_array[:,1] < np.min(pc_array[:,1])+90)\n",
    "\n",
    "    mask = np.ones((pc_array.shape[0],3), dtype=bool)\n",
    "    mask[legs] = False\n",
    "    mask[head] = False\n",
    "    mask[armR] = False\n",
    "    mask[armL] = False\n",
    "    #mask.reshape((500123, 3))\n",
    "\n",
    "    back = np.array(pc_array[mask], dtype=np.float64)\n",
    "\n",
    "    pc = np.array(back.reshape((back.shape[0]//3, 3)))\n",
    "\n",
    "    pc_cropped = o3d.geometry.PointCloud()\n",
    "    pc_cropped.points = o3d.utility.Vector3dVector(pc)\n",
    "    \n",
    "    return pc_cropped\n",
    "\n",
    "pc_center = crop_pc(pc0)\n",
    "o3d.visualization.draw_geometries([pc_center])\n"
   ]
  },
  {
   "cell_type": "code",
   "execution_count": 5,
   "metadata": {},
   "outputs": [],
   "source": [
    "def draw_registration_result(source, target, transformation):\n",
    "    source_temp = copy.deepcopy(source)\n",
    "    target_temp = copy.deepcopy(target)\n",
    "    source_temp.paint_uniform_color([1, 0.706, 0])\n",
    "    target_temp.paint_uniform_color([0, 0.651, 0.929])\n",
    "    source_temp.transform(transformation)\n",
    "    o3d.visualization.draw_geometries([source_temp, target_temp])"
   ]
  },
  {
   "cell_type": "code",
   "execution_count": 18,
   "metadata": {},
   "outputs": [
    {
     "name": "stdout",
     "output_type": "stream",
     "text": [
      "[[-185.04086304 -203.23529053 1796.91711426]\n",
      " [-185.97872925 -203.29910278 1797.43640137]\n",
      " [-186.9108429  -203.35600281 1797.89440918]\n",
      " ...\n",
      " [-230.64271545  203.10369873 1842.90161133]\n",
      " [-235.64268494  203.52252197 1846.41516113]\n",
      " [-236.64251709  203.60415649 1847.09814453]]\n",
      "[[-186.86268616 -203.30361938 1797.43127441]\n",
      " [-187.8059082  -203.37220764 1797.99243164]\n",
      " [-188.70266724 -203.39013672 1798.10559082]\n",
      " ...\n",
      " [-236.66604614  203.62440491 1847.28186035]\n",
      " [-237.67375183  203.7121582  1848.01965332]\n",
      " [-238.79000854  203.891922   1849.59216309]]\n",
      "[[ 354.95379639 -204.87136841 2043.01904297]\n",
      " [ 354.03741455 -204.92196655 2043.60705566]\n",
      " [ 352.96954346 -204.88502502 2043.32165527]\n",
      " ...\n",
      " [ 481.1847229   259.90771484 1883.74841309]\n",
      " [ 482.19720459  260.88504028 1883.8815918 ]\n",
      " [ 480.70889282  260.58505249 1881.8260498 ]]\n",
      "[[-318.1159668  -206.51820374 1825.18615723]\n",
      " [-319.02301025 -206.5242157  1825.16357422]\n",
      " [-294.55819702 -205.47015381 1825.79199219]\n",
      " ...\n",
      " [ 402.31640625  386.63476562 1898.94750977]\n",
      " [ 402.13421631  386.49676514 1893.46911621]\n",
      " [ 402.2225647   387.48776245 1898.41625977]]\n",
      "[[-435.05966187 -249.59378052 1804.39660645]\n",
      " [-435.79101562 -249.5002594  1803.62036133]\n",
      " [-436.77835083 -249.55334473 1803.90405273]\n",
      " ...\n",
      " [ 138.52307129  554.73748779 1928.36157227]\n",
      " [ 138.28656006  554.74743652 1924.94335938]\n",
      " [ 138.19842529  555.35083008 1923.5925293 ]]\n",
      "[[ 9.99999905e-01 -2.83221778e-06  4.35122121e-04 -7.79762189e-01]\n",
      " [ 2.82879659e-06  1.00000000e+00  7.86320575e-06 -1.29476348e-02]\n",
      " [-4.35122144e-04 -7.86197413e-06  9.99999905e-01 -1.82931045e-01]\n",
      " [ 0.00000000e+00  0.00000000e+00  0.00000000e+00  1.00000000e+00]]\n",
      "[[ 9.94973447e-01 -1.00122513e-01  1.82253463e-03 -8.38374302e+00]\n",
      " [ 1.00037506e-01  9.92979783e-01 -6.31161406e-02  1.25105067e+02]\n",
      " [ 4.50960655e-03  6.29812058e-02  9.98004525e-01 -1.46606492e+00]\n",
      " [ 0.00000000e+00  0.00000000e+00  0.00000000e+00  1.00000000e+00]]\n"
     ]
    }
   ],
   "source": [
    "body0 = crop_pc(pc0)\n",
    "body1 = crop_pc(pc1)\n",
    "body40 = crop_pc(pc40)\n",
    "body50 = crop_pc(pc50)\n",
    "body72 = crop_pc(pc72)\n",
    "\n",
    "trans_init = np.identity(4)\n",
    "\n",
    "icp1 = o3d.pipelines.registration.registration_icp(body0, body1, 10, trans_init, o3d.pipelines.registration.TransformationEstimationPointToPoint())\n",
    "print(icp1.transformation)\n",
    "\n",
    "icp50 = o3d.pipelines.registration.registration_icp(body40, body50, 10, trans_init, o3d.pipelines.registration.TransformationEstimationPointToPoint())\n",
    "print(icp50.transformation)\n",
    "\n",
    "draw_registration_result(body40, body50, icp50.transformation)"
   ]
  },
  {
   "cell_type": "code",
   "execution_count": 16,
   "metadata": {},
   "outputs": [
    {
     "name": "stdout",
     "output_type": "stream",
     "text": [
      "[ -8.38374302 125.10506713  -1.46606492]\n",
      "Distance de translation : 125.39423557208771 mm\n",
      "[[ 0.99497345 -0.10012251  0.00182253]\n",
      " [ 0.10003751  0.99297978 -0.06311614]\n",
      " [ 0.00450961  0.06298121  0.99800452]]\n",
      "[[1. 0. 0.]\n",
      " [0. 1. 0.]\n",
      " [0. 0. 1.]]\n",
      "[[ 0.99497345 -0.10012251  0.00182253]\n",
      " [ 0.10003751  0.99297978 -0.06311614]\n",
      " [ 0.00450961  0.06298121  0.99800452]]\n"
     ]
    }
   ],
   "source": [
    "RST = icp50.transformation\n",
    "T = RST[0:3, 3]\n",
    "print(T)\n",
    "len_T = np.linalg.norm(T)\n",
    "print(f'Distance de translation : {len_T} mm')\n",
    "RS = RST[0:3, 0:3]\n",
    "print(RS)\n",
    "S = np.zeros((3,3))\n",
    "S[0,0] = np.linalg.norm(RS[:,0])\n",
    "S[1,1] = np.linalg.norm(RS[:,1])\n",
    "S[2,2] = np.linalg.norm(RS[:,2])\n",
    "print(S)\n",
    "R = np.matmul(RS, np.linalg.inv(S)) #S est la matrice identité, donc R=RS, aucun scaling\n",
    "print(R)"
   ]
  },
  {
   "cell_type": "code",
   "execution_count": 12,
   "metadata": {},
   "outputs": [
    {
     "name": "stdout",
     "output_type": "stream",
     "text": [
      "6.793527411413739\n",
      "[ 0.53299279 -0.01135781  0.84604355]\n"
     ]
    }
   ],
   "source": [
    "Tr = np.trace(R)\n",
    "cos_rot = (Tr-1)/2\n",
    "angle_rot = np.degrees(np.arccos(cos_rot))\n",
    "print(angle_rot)\n",
    "\n",
    "axis_rot = np.multiply(1/np.sqrt((3-Tr)*(1+Tr)), np.array([R[2,1]-R[1,2], R[0,2]-R[2,0], R[1,0]-R[0,1]]))\n",
    "print(axis_rot)"
   ]
  },
  {
   "cell_type": "code",
   "execution_count": 13,
   "metadata": {},
   "outputs": [
    {
     "name": "stdout",
     "output_type": "stream",
     "text": [
      "[-0.2583823   3.61098395  5.74138883]\n"
     ]
    }
   ],
   "source": [
    "def IsRotationMatrix(R):\n",
    "    Rt = np.transpose(R)\n",
    "    shouldBeIdentity = np.dot(Rt, R)\n",
    "    I = np.identity(3, dtype = R.dtype)\n",
    "    n = np.linalg.norm(I - shouldBeIdentity)\n",
    "    return n < 1e-6\n",
    "\n",
    "def RotationMatrixToEulerAngles(R):\n",
    "    assert(IsRotationMatrix(R))\n",
    "\n",
    "    sy = math.sqrt(R[0,0] * R[0,0] + R[1,0] * R[1,0])\n",
    "\n",
    "    singular = sy < 1e-6\n",
    "\n",
    "    if not singular:\n",
    "        y = math.atan2(R[2,1], R[2,2])\n",
    "        x = math.atan2(-R[2,0], sy)\n",
    "        z = math.atan2(R[1,0], R[0,0])\n",
    "    else:\n",
    "        y = math.atan2(-R[1,2], R[1,1])\n",
    "        x = math.atan2(-R[2,0], R[1,1])\n",
    "        z = 0\n",
    "\n",
    "    return np.array([np.degrees(x),np.degrees(y),np.degrees(z)])\n",
    "\n",
    "print(RotationMatrixToEulerAngles(R))"
   ]
  }
 ],
 "metadata": {
  "kernelspec": {
   "display_name": "Python 3",
   "language": "python",
   "name": "python3"
  },
  "language_info": {
   "codemirror_mode": {
    "name": "ipython",
    "version": 3
   },
   "file_extension": ".py",
   "mimetype": "text/x-python",
   "name": "python",
   "nbconvert_exporter": "python",
   "pygments_lexer": "ipython3",
   "version": "3.8.16"
  },
  "orig_nbformat": 4
 },
 "nbformat": 4,
 "nbformat_minor": 2
}
